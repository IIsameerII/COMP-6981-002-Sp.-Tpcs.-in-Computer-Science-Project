{
 "cells": [
  {
   "cell_type": "code",
   "execution_count": 12,
   "metadata": {},
   "outputs": [],
   "source": [
    "import pandas as pd\n",
    "\n",
    "df = pd.read_csv(r'archive\\CAR DETAILS FROM CAR DEKHO - Copy.csv')"
   ]
  },
  {
   "cell_type": "code",
   "execution_count": 13,
   "metadata": {},
   "outputs": [],
   "source": [
    "# For step 2\n",
    "\n",
    "df['yearkm_driven'] = df['year'].astype(str) + df['km_driven'].astype(str)\n",
    "df['yearkm_driven'] = df['yearkm_driven'].astype(float)\n",
    "df.to_csv(r'archive\\CAR DETAILS FROM CAR DEKHO - Copy.csv',index=False)\n",
    "# Delete and reposition the file in excel\n"
   ]
  }
 ],
 "metadata": {
  "kernelspec": {
   "display_name": "MachineLearningV1",
   "language": "python",
   "name": "python3"
  },
  "language_info": {
   "codemirror_mode": {
    "name": "ipython",
    "version": 3
   },
   "file_extension": ".py",
   "mimetype": "text/x-python",
   "name": "python",
   "nbconvert_exporter": "python",
   "pygments_lexer": "ipython3",
   "version": "3.10.13"
  }
 },
 "nbformat": 4,
 "nbformat_minor": 2
}
